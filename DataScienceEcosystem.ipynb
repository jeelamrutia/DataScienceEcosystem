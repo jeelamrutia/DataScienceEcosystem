{
 "cells": [
  {
   "cell_type": "markdown",
   "id": "e07b7cf6-5b67-4798-94e7-1f2a29d444b8",
   "metadata": {},
   "source": [
    "# Data Science Tools and Ecosystem"
   ]
  },
  {
   "cell_type": "markdown",
   "id": "f14dfa06-ed47-46a3-8977-8be249e1c794",
   "metadata": {},
   "source": [
    "# Data Science Tools and Ecosystem\n",
    "\n",
    "In this notebook, an overview of key Data Science tools and the broader ecosystem is summarized.\n"
   ]
  },
  {
   "cell_type": "markdown",
   "id": "ca4f24bd-cb99-4e2c-ac03-a3daac4c3e40",
   "metadata": {},
   "source": [
    "# Data Science Tools and Ecosystem\n",
    "\n",
    "In this notebook, an overview of key Data Science tools and the broader ecosystem is summarized.\n",
    "\n",
    "Some of the popular languages that Data Scientists use are:\n",
    "\n",
    "1. Python\n",
    "2. R\n",
    "3. SQL\n",
    "4. Julia"
   ]
  },
  {
   "cell_type": "markdown",
   "id": "778fa120-f947-4479-8e62-2795f67f2cbd",
   "metadata": {},
   "source": [
    "# Data Science Tools and Ecosystem\n",
    "\n",
    "Some of the commonly used libraries used by Data Scientists include:\n",
    "\n",
    "1. Pandas\n",
    "2. NumPy\n",
    "3. Scikit-learn\n",
    "4. TensorFlow\n"
   ]
  },
  {
   "cell_type": "markdown",
   "id": "5b21f64e-e2f2-4a95-882f-2b373b5dc51d",
   "metadata": {},
   "source": [
    "| Data Science Tools |\n",
    "|--------------------|\n",
    "| Jupyter Notebook   |\n",
    "| Apache Zeppelin    |\n",
    "| RStudio            |"
   ]
  },
  {
   "cell_type": "markdown",
   "id": "bbb0c4be-b145-44a3-8f24-cbbbc0264edf",
   "metadata": {},
   "source": [
    "### Below are a few examples of evaluating arithmetic expressions in Python."
   ]
  },
  {
   "cell_type": "code",
   "execution_count": 12,
   "id": "a219ff24-398d-4f42-a249-61f810d3f9cf",
   "metadata": {},
   "outputs": [
    {
     "data": {
      "text/plain": [
       "17"
      ]
     },
     "execution_count": 12,
     "metadata": {},
     "output_type": "execute_result"
    }
   ],
   "source": [
    "# This is a simple arithmetic expression to multiply then add integers.\n",
    "result = (3 * 4) + 5\n",
    "result\n"
   ]
  },
  {
   "cell_type": "code",
   "execution_count": 15,
   "id": "5ea7ab01-4531-4aff-b68c-6d14c26e9592",
   "metadata": {},
   "outputs": [
    {
     "data": {
      "text/plain": [
       "3.3333333333333335"
      ]
     },
     "execution_count": 15,
     "metadata": {},
     "output_type": "execute_result"
    }
   ],
   "source": [
    "# This will convert 200 minutes to hours by dividing by 60.\n",
    "minutes = 200\n",
    "hours = minutes / 60\n",
    "hours\n"
   ]
  },
  {
   "cell_type": "markdown",
   "id": "8ff729e8-3a6e-44a1-a9e7-4013b94cdeb8",
   "metadata": {},
   "source": [
    "**Objectives:**\n",
    "\n",
    "- List popular languages for Data Science\n",
    "- Explore libraries commonly used in Data Science\n",
    "- Understand key concepts in Data Science\n",
    "- Perform basic data analysis using Python\n",
    "- Visualize data using Python libraries\n"
   ]
  },
  {
   "cell_type": "markdown",
   "id": "b7ba240d-3f28-4aa9-b80b-9fe615ea45d8",
   "metadata": {},
   "source": [
    "## Author\n",
    "\n",
    "Jeel Bhalodia\n"
   ]
  },
  {
   "cell_type": "code",
   "execution_count": null,
   "id": "c3120648-6314-4390-bbca-51de0987c5df",
   "metadata": {},
   "outputs": [],
   "source": []
  }
 ],
 "metadata": {
  "kernelspec": {
   "display_name": "Python 3 (ipykernel)",
   "language": "python",
   "name": "python3"
  },
  "language_info": {
   "codemirror_mode": {
    "name": "ipython",
    "version": 3
   },
   "file_extension": ".py",
   "mimetype": "text/x-python",
   "name": "python",
   "nbconvert_exporter": "python",
   "pygments_lexer": "ipython3",
   "version": "3.12.4"
  }
 },
 "nbformat": 4,
 "nbformat_minor": 5
}
